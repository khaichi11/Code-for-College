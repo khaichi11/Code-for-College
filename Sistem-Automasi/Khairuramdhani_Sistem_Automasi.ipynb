{
  "cells": [
    {
      "cell_type": "markdown",
      "metadata": {
        "id": "BcQIzdHd6rpU"
      },
      "source": [
        "\n",
        "\n",
        "**Permodelan Motor DC Menggunakan Python dan Library SYMPY oleh Khai**"
      ]
    },
    {
      "cell_type": "markdown",
      "metadata": {
        "id": "Qrim6qPi6-ZQ"
      },
      "source": [
        "### **Menulis Terlebih Dahulu  Simbol yang Dimiliki Oleh Motor DC**"
      ]
    },
    {
      "cell_type": "code",
      "execution_count": 165,
      "metadata": {
        "id": "Bfv2WjwR6TwZ"
      },
      "outputs": [],
      "source": [
        "import sympy as sp\n",
        "\n",
        "# Definisikan terlebih dahulu simbol yang akan dipakai\n",
        "# Masukan simbol yang telah di definisikan ke dalam variabel\n",
        "\n",
        "# Fungsi di domain Waktu\n",
        "\n",
        "t = sp.symbols('t') # Variabel Waktu\n",
        "Vt =  sp.Function('V')(t)\n",
        "i_t = sp.Function('i')(t) # Arus\n",
        "omega_t = sp.Function('omega')(t) # Output Kecepatan Sudut\n",
        "\n",
        "# Fungsi di domain Laplace\n",
        "# Disini tidak menggunakan perintah laplace_transform() karena membutuhkan kondisi awal\n",
        "# Alasan lainnya yaitu perintah laplace_transform() tidak bisa dipakai untuk bentuk aljabar simbolik\n",
        "# Jadi disini yang dilakukan adalah mengubah domain waktu ke domain laplace secara manual\n",
        "\n",
        "s = sp.symbols('s') # Variabel Laplace\n",
        "Vs = sp.Function('V')(s) # Input Tegangan\n",
        "i_s = sp.Function('i')(s) # Arus\n",
        "omega_s = sp.Function('omega')(s) # Output Kecepatan Sudut\n",
        "\n",
        "# Parameter Motor DC\n",
        "\n",
        "R = sp.symbols('R') # Resistor\n",
        "L = sp.symbols('L') # Induktor (Jika nilainya sangat kecil bisa diabaikan)\n",
        "Ke = sp.symbols('K') # Konstanta Motor (back EMF)\n",
        "Kt = sp.symbols('K') # Konstanta Motor (Torsi)\n",
        "J = sp.symbols('J') # Momen Inersia\n",
        "B = sp.symbols('B') # Friksi Mekanik"
      ]
    },
    {
      "cell_type": "markdown",
      "metadata": {
        "id": "rvAQnQMaFz2U"
      },
      "source": [
        "### **Menulis Persamaan Dasar yang Dimiliki Motor DC**"
      ]
    },
    {
      "cell_type": "code",
      "execution_count": 166,
      "metadata": {
        "colab": {
          "base_uri": "https://localhost:8080/"
        },
        "id": "uP5ViqJt6aoP",
        "outputId": "50341f7b-af3a-4ab0-bc84-c6e4ca4ab298"
      },
      "outputs": [
        {
          "name": "stdout",
          "output_type": "stream",
          "text": [
            "Persamaan GGL balik pada domain waktu\n",
            "K⋅ω(t)\n",
            "\n",
            "\n",
            "Persamaan Listrik pada domain waktu\n",
            "                  d                \n",
            "V(t) = K⋅ω(t) + L⋅──(i(t)) + R⋅i(t)\n",
            "                  dt               \n",
            "\n",
            "\n",
            "Persamaan Mekanik pada domain waktu\n",
            "                    d       \n",
            "K⋅i(t) = B⋅ω(t) + J⋅──(ω(t))\n",
            "                    dt      \n",
            "\n",
            "\n"
          ]
        }
      ],
      "source": [
        "# Persamaan GGL balik\n",
        "print(\"Persamaan GGL balik pada domain waktu\")\n",
        "Eb_t = Ke * omega_t\n",
        "sp.pprint(Eb_t)\n",
        "print(\"\\n\")\n",
        "\n",
        "# Persamaan listrik pada domain waktu\n",
        "print(\"Persamaan Listrik pada domain waktu\")\n",
        "time_domain_Listrik = sp.Eq(Vt, R * i_t + L * sp.diff(i_t, t) + Eb_t)\n",
        "sp.pprint(time_domain_Listrik)\n",
        "print(\"\\n\")\n",
        "\n",
        "# Persamaan Mekanik\n",
        "print(\"Persamaan Mekanik pada domain waktu\")\n",
        "time_domain_Mekanik = sp.Eq(Kt * i_t, J * sp.diff(omega_t, t) + B * omega_t)\n",
        "sp.pprint(time_domain_Mekanik)\n",
        "print(\"\\n\")"
      ]
    },
    {
      "cell_type": "markdown",
      "metadata": {
        "id": "zXR-_tjENcKl"
      },
      "source": [
        "### **Mengubah Domain Waktu ke Domain Laplace**"
      ]
    },
    {
      "cell_type": "code",
      "execution_count": 167,
      "metadata": {
        "colab": {
          "base_uri": "https://localhost:8080/"
        },
        "id": "rt_wFVd5I1RS",
        "outputId": "345e4a48-206d-481a-f247-74466ef3decc"
      },
      "outputs": [
        {
          "name": "stdout",
          "output_type": "stream",
          "text": [
            "Persamaan GGL balik pada domain Laplace\n",
            "K⋅ω(s)\n",
            "\n",
            "\n",
            "Persamaan Listrik pada domain Laplace\n",
            "V(s) = K⋅ω(s) + R⋅i(s)\n",
            "\n",
            "\n",
            "Persamaan Mekanik pada domain Laplace\n",
            "K⋅i(s) = B⋅ω(s) + J⋅s⋅ω(s)\n",
            "\n",
            "\n"
          ]
        }
      ],
      "source": [
        "# Persamaan GGL balik pada domain laplace\n",
        "print(\"Persamaan GGL balik pada domain Laplace\")\n",
        "Eb_s = Ke * omega_s\n",
        "sp.pprint(Eb_s)\n",
        "print(\"\\n\")\n",
        "\n",
        "# Persamaan listrik pada domain laplace\n",
        "print(\"Persamaan Listrik pada domain Laplace\")\n",
        "laplace_domain_Listrik= sp.Eq(Vs, R * i_s + L * s * i_s + Eb_s)\n",
        "\n",
        "# Persamaan jika nilai L sangat kecil sehingga diabaikan\n",
        "laplace_domain_Listrik_l_diabaikan = sp.Eq(Vs, R * i_s + Eb_s)\n",
        "sp.pprint(laplace_domain_Listrik_l_diabaikan)\n",
        "print(\"\\n\")\n",
        "\n",
        "# Persamaan Mekanik pada domain laplace\n",
        "print(\"Persamaan Mekanik pada domain Laplace\")\n",
        "laplace_domain_Mekanik = sp.Eq(Kt * i_s, J * s * omega_s + B * omega_s)\n",
        "sp.pprint(laplace_domain_Mekanik)\n",
        "print(\"\\n\")"
      ]
    },
    {
      "cell_type": "markdown",
      "metadata": {
        "id": "ASYlzeA-xuYv"
      },
      "source": [
        "### **Cari nilai dari i(s) lalu setelah itu lakukan subtitusikan nilai i(s) tersebut ke dalam persamaan lainnya**"
      ]
    },
    {
      "cell_type": "code",
      "execution_count": 168,
      "metadata": {
        "colab": {
          "base_uri": "https://localhost:8080/"
        },
        "id": "t6U2dWdkRpS6",
        "outputId": "77657cbd-5779-42a9-8788-5d79056dd9f7"
      },
      "outputs": [
        {
          "name": "stdout",
          "output_type": "stream",
          "text": [
            "Nilai i(s) dari persamaan mekanik\n",
            "       (B + J⋅s)⋅ω(s)\n",
            "i(s) = ──────────────\n",
            "             K       \n",
            "\n",
            "\n",
            "Memasukkan nilai i(s) yang didapat dari persamaan mekanik ke persamaan V(s)\n",
            "                R⋅(B + J⋅s)⋅ω(s)\n",
            "V(s) = K⋅ω(s) + ────────────────\n",
            "                       K        \n",
            "\n",
            "\n"
          ]
        }
      ],
      "source": [
        "# Persamaan menggunakan sp.solve untuk mencari i_s_ dan langsung pindah ruas\n",
        "print(\"Nilai i(s) dari persamaan mekanik\")\n",
        "i_s_ = sp.solve(laplace_domain_Mekanik, i_s)[0]\n",
        "sp.pprint(sp.Eq(sp.Function('i')(s),i_s_))\n",
        "print(\"\\n\")\n",
        "\n",
        "# Persamaan menggunakan .subs untuk melakukan subtitusi\n",
        "print(\"Memasukkan nilai i(s) yang didapat dari persamaan mekanik ke persamaan V(s)\")\n",
        "laplace_domain_Listrik_subs = laplace_domain_Listrik_l_diabaikan.subs(i_s, i_s_)\n",
        "sp.pprint(laplace_domain_Listrik_subs)\n",
        "print(\"\\n\")"
      ]
    },
    {
      "cell_type": "markdown",
      "metadata": {
        "id": "1S3DgzEb3AYC"
      },
      "source": [
        "### **Dapatkan nilai dari V(s) dan ω(s) untuk melakukan perhitungan fungsi alih atau transfer Function**"
      ]
    },
    {
      "cell_type": "code",
      "execution_count": 169,
      "metadata": {
        "colab": {
          "base_uri": "https://localhost:8080/"
        },
        "id": "eAwRUwuGWH_V",
        "outputId": "1a9b4b7f-559c-40b2-a392-85a3cfde5e1f"
      },
      "outputs": [
        {
          "name": "stdout",
          "output_type": "stream",
          "text": [
            "Nilai dari V(s) pada persamaan listrik yang telah di subtitusi\n",
            "         R⋅(B + J⋅s)⋅ω(s)\n",
            "K⋅ω(s) + ────────────────\n",
            "                K        \n",
            "\n",
            "\n",
            "Nilai dari omega\n",
            "ω(s)\n",
            "\n",
            "\n"
          ]
        }
      ],
      "source": [
        "# Gunaakan .rhs untuk mengambil nilai sebelah kanan ruas dari V(s)\n",
        "print(\"Nilai dari V(s) pada persamaan listrik yang telah di subtitusi\")\n",
        "V_s = laplace_domain_Listrik_subs.rhs\n",
        "sp.pprint(V_s)\n",
        "print(\"\\n\")\n",
        "\n",
        "# Nilai omega didapatkan dari persamaan yang telah dibuat sebelumnya di atas\n",
        "# Nilai omega dapat dilihat pada persamaan fungsi laplace di awal program\n",
        "print(\"Nilai dari omega\")\n",
        "sp.pprint(omega_s)\n",
        "print(\"\\n\")"
      ]
    },
    {
      "cell_type": "markdown",
      "metadata": {
        "id": "2R0Gun__318p"
      },
      "source": [
        "### **Lakukan perhitungan untuk menentukan fungsi alihnya**"
      ]
    },
    {
      "cell_type": "code",
      "execution_count": 170,
      "metadata": {
        "colab": {
          "base_uri": "https://localhost:8080/"
        },
        "id": "yogl5d6jk5UM",
        "outputId": "2ed62fe7-a49d-4a4d-cf26-79d780ad9d5e"
      },
      "outputs": [
        {
          "name": "stdout",
          "output_type": "stream",
          "text": [
            "Persamaan Transfer Function\n",
            "       ω(s)\n",
            "H(s) = ────\n",
            "       V(s)\n",
            "\n",
            "\n",
            "Nilai transfer functionnya yaitu : \n",
            "ω(s)          K        \n",
            "──── = ────────────────\n",
            "V(s)                  2\n",
            "       B⋅R + J⋅R⋅s + K \n"
          ]
        }
      ],
      "source": [
        "# Disini langsung dicari nilai dari fungsi alihnya\n",
        "print(\"Persamaan Transfer Function\")\n",
        "sp.pprint(sp.Eq(sp.Function('H')(s),sp.Function('ω')(s)/sp.Function('V')(s)))\n",
        "print(\"\\n\")\n",
        "\n",
        "# Cari fungsi alih atau transfer function atau H(s)\n",
        "fungsi_alih = sp.expand(sp.simplify(omega_s / V_s))\n",
        "\n",
        "\n",
        "# Setelah itu cetak hasilnya\n",
        "print(\"Nilai transfer functionnya yaitu : \")\n",
        "sp.pprint(sp.Eq(sp.Function('ω')(s)/sp.Function('V')(s),fungsi_alih))"
      ]
    }
  ],
  "metadata": {
    "colab": {
      "provenance": []
    },
    "kernelspec": {
      "display_name": "Python 3",
      "name": "python3"
    },
    "language_info": {
      "name": "python"
    }
  },
  "nbformat": 4,
  "nbformat_minor": 0
}
